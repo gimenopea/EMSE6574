{
  "nbformat": 4,
  "nbformat_minor": 0,
  "metadata": {
    "kernelspec": {
      "display_name": "Python 3",
      "language": "python",
      "name": "python3"
    },
    "language_info": {
      "codemirror_mode": {
        "name": "ipython",
        "version": 3
      },
      "file_extension": ".py",
      "mimetype": "text/x-python",
      "name": "python",
      "nbconvert_exporter": "python",
      "pygments_lexer": "ipython3",
      "version": "3.7.3"
    },
    "colab": {
      "name": "PaulGimeno-NLP_HW_Clustering.ipynb",
      "provenance": [],
      "include_colab_link": true
    }
  },
  "cells": [
    {
      "cell_type": "markdown",
      "metadata": {
        "id": "view-in-github",
        "colab_type": "text"
      },
      "source": [
        "<a href=\"https://colab.research.google.com/github/gimenopea/EMSE6574/blob/master/PaulGimeno_NLP_HW_Clustering.ipynb\" target=\"_parent\"><img src=\"https://colab.research.google.com/assets/colab-badge.svg\" alt=\"Open In Colab\"/></a>"
      ]
    },
    {
      "cell_type": "code",
      "metadata": {
        "id": "MvyVrV0v-ZV3"
      },
      "source": [
        "import nltk\n",
        "from nltk.stem import *\n",
        "from nltk.tokenize import RegexpTokenizer\n",
        "import pandas as pd\n",
        "from nltk.corpus import stopwords\n",
        "from nltk.stem import WordNetLemmatizer\n",
        "from sklearn.feature_extraction.text import TfidfVectorizer\n",
        "from sklearn.cluster import KMeans\n",
        "\n",
        "\n"
      ],
      "execution_count": null,
      "outputs": []
    },
    {
      "cell_type": "code",
      "metadata": {
        "id": "ISLgXVrD-ZV4"
      },
      "source": [
        "text = 'Some email recipients might report bulk messages as spam. Therefore, you need to ensure that all recipients are willing to receive the emails. You can also check email settings for any incorrectly configured forwarding rules or filters. '\n"
      ],
      "execution_count": null,
      "outputs": []
    },
    {
      "cell_type": "code",
      "metadata": {
        "id": "iw1pVpt6-ZV4"
      },
      "source": [
        "vectorizer = TfidfVectorizer(stop_words='english')\n",
        "vectorized_text = vectorizer.fit_transform(text.split())"
      ],
      "execution_count": null,
      "outputs": []
    },
    {
      "cell_type": "code",
      "metadata": {
        "id": "f1-ffYqr-ZV4"
      },
      "source": [
        "\n",
        "k = 3\n",
        "kmeans_model = KMeans(n_clusters=true_k, init='k-means++', max_iter=100, n_init=1).fit(vectorized_text)\n",
        "\n",
        "centroids = model.cluster_centers_.argsort()[:, ::-1]\n",
        "terms = vectorizer.get_feature_names()"
      ],
      "execution_count": null,
      "outputs": []
    },
    {
      "cell_type": "code",
      "metadata": {
        "id": "nCtMP4Wx-ZV4"
      },
      "source": [
        "\n",
        "clusters = {}\n",
        "l = []\n",
        "\n",
        "for i in range(k):  \n",
        "  l = []\n",
        "  for ind in order_centroids[i, :10]:\n",
        "    l.append(terms[ind])\n",
        "    \n",
        "    clusters[f'cluster # {i}'] = l\n",
        "\n",
        "df = pd.DataFrame(clusters)"
      ],
      "execution_count": null,
      "outputs": []
    },
    {
      "cell_type": "code",
      "metadata": {
        "colab": {
          "base_uri": "https://localhost:8080/",
          "height": 343
        },
        "id": "LekaQ3G0wXqZ",
        "outputId": "7f6b328a-88e3-42d3-c317-9c9fc7c77106"
      },
      "source": [
        "df"
      ],
      "execution_count": null,
      "outputs": [
        {
          "output_type": "execute_result",
          "data": {
            "text/html": [
              "<div>\n",
              "<style scoped>\n",
              "    .dataframe tbody tr th:only-of-type {\n",
              "        vertical-align: middle;\n",
              "    }\n",
              "\n",
              "    .dataframe tbody tr th {\n",
              "        vertical-align: top;\n",
              "    }\n",
              "\n",
              "    .dataframe thead th {\n",
              "        text-align: right;\n",
              "    }\n",
              "</style>\n",
              "<table border=\"1\" class=\"dataframe\">\n",
              "  <thead>\n",
              "    <tr style=\"text-align: right;\">\n",
              "      <th></th>\n",
              "      <th>cluster # 0</th>\n",
              "      <th>cluster # 1</th>\n",
              "      <th>cluster # 2</th>\n",
              "    </tr>\n",
              "  </thead>\n",
              "  <tbody>\n",
              "    <tr>\n",
              "      <th>0</th>\n",
              "      <td>email</td>\n",
              "      <td>recipients</td>\n",
              "      <td>messages</td>\n",
              "    </tr>\n",
              "    <tr>\n",
              "      <th>1</th>\n",
              "      <td>willing</td>\n",
              "      <td>willing</td>\n",
              "      <td>willing</td>\n",
              "    </tr>\n",
              "    <tr>\n",
              "      <th>2</th>\n",
              "      <td>spam</td>\n",
              "      <td>spam</td>\n",
              "      <td>forwarding</td>\n",
              "    </tr>\n",
              "    <tr>\n",
              "      <th>3</th>\n",
              "      <td>check</td>\n",
              "      <td>check</td>\n",
              "      <td>check</td>\n",
              "    </tr>\n",
              "    <tr>\n",
              "      <th>4</th>\n",
              "      <td>configured</td>\n",
              "      <td>configured</td>\n",
              "      <td>configured</td>\n",
              "    </tr>\n",
              "    <tr>\n",
              "      <th>5</th>\n",
              "      <td>emails</td>\n",
              "      <td>emails</td>\n",
              "      <td>email</td>\n",
              "    </tr>\n",
              "    <tr>\n",
              "      <th>6</th>\n",
              "      <td>ensure</td>\n",
              "      <td>ensure</td>\n",
              "      <td>emails</td>\n",
              "    </tr>\n",
              "    <tr>\n",
              "      <th>7</th>\n",
              "      <td>filters</td>\n",
              "      <td>filters</td>\n",
              "      <td>ensure</td>\n",
              "    </tr>\n",
              "    <tr>\n",
              "      <th>8</th>\n",
              "      <td>forwarding</td>\n",
              "      <td>forwarding</td>\n",
              "      <td>filters</td>\n",
              "    </tr>\n",
              "    <tr>\n",
              "      <th>9</th>\n",
              "      <td>incorrectly</td>\n",
              "      <td>incorrectly</td>\n",
              "      <td>incorrectly</td>\n",
              "    </tr>\n",
              "  </tbody>\n",
              "</table>\n",
              "</div>"
            ],
            "text/plain": [
              "   cluster # 0  cluster # 1  cluster # 2\n",
              "0        email   recipients     messages\n",
              "1      willing      willing      willing\n",
              "2         spam         spam   forwarding\n",
              "3        check        check        check\n",
              "4   configured   configured   configured\n",
              "5       emails       emails        email\n",
              "6       ensure       ensure       emails\n",
              "7      filters      filters       ensure\n",
              "8   forwarding   forwarding      filters\n",
              "9  incorrectly  incorrectly  incorrectly"
            ]
          },
          "metadata": {
            "tags": []
          },
          "execution_count": 36
        }
      ]
    },
    {
      "cell_type": "code",
      "metadata": {
        "id": "qg3_1fqhxB5m"
      },
      "source": [
        ""
      ],
      "execution_count": null,
      "outputs": []
    }
  ]
}