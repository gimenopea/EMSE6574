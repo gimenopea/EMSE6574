{
  "nbformat": 4,
  "nbformat_minor": 0,
  "metadata": {
    "colab": {
      "name": "PgimenoAssign1.ipynb",
      "provenance": [],
      "collapsed_sections": [],
      "authorship_tag": "ABX9TyPsHLSomOEEJriy/pIDu6Rx",
      "include_colab_link": true
    },
    "kernelspec": {
      "name": "python3",
      "display_name": "Python 3"
    }
  },
  "cells": [
    {
      "cell_type": "markdown",
      "metadata": {
        "id": "view-in-github",
        "colab_type": "text"
      },
      "source": [
        "<a href=\"https://colab.research.google.com/github/gimenopea/EMSE6574/blob/master/PgimenoAssign1.ipynb\" target=\"_parent\"><img src=\"https://colab.research.google.com/assets/colab-badge.svg\" alt=\"Open In Colab\"/></a>"
      ]
    },
    {
      "cell_type": "markdown",
      "metadata": {
        "id": "7dwpXv0IJxkr",
        "colab_type": "text"
      },
      "source": [
        "Paul Gimeno Assignment 1 8-31-2020"
      ]
    },
    {
      "cell_type": "markdown",
      "metadata": {
        "id": "NRw7KZazHON3",
        "colab_type": "text"
      },
      "source": [
        "**Palindrome Assignment**"
      ]
    },
    {
      "cell_type": "code",
      "metadata": {
        "id": "L9sBP9V3HWl_",
        "colab_type": "code",
        "colab": {}
      },
      "source": [
        "def is_palindrome(text):\n",
        "  palindrome = text[::-1]\n",
        "  if text == palindrome:\n",
        "    return '{} is a palindrome of {}'.format(text,palindrome)\n",
        "  else:\n",
        "    return '{} is Not a palindrome of {}'.format(text,palindrome)"
      ],
      "execution_count": null,
      "outputs": []
    },
    {
      "cell_type": "code",
      "metadata": {
        "id": "0C7GCn-DHvXR",
        "colab_type": "code",
        "colab": {
          "base_uri": "https://localhost:8080/",
          "height": 51
        },
        "outputId": "d890b041-f3d4-4752-de4a-de5f6cc381b6"
      },
      "source": [
        "# Test the code\n",
        "\n",
        "print(is_palindrome('racecar'))\n",
        "print(is_palindrome('potato'))"
      ],
      "execution_count": null,
      "outputs": [
        {
          "output_type": "stream",
          "text": [
            "racecar is a palindrome of racecar\n",
            "potato is Not a palindrome of otatop\n"
          ],
          "name": "stdout"
        }
      ]
    },
    {
      "cell_type": "markdown",
      "metadata": {
        "id": "QPnxbIMfJm-t",
        "colab_type": "text"
      },
      "source": [
        "**Fake Name Assignment**"
      ]
    },
    {
      "cell_type": "code",
      "metadata": {
        "id": "GQGokzqaGB3O",
        "colab_type": "code",
        "colab": {}
      },
      "source": [
        "%pip install Faker\n",
        "from faker import Faker"
      ],
      "execution_count": null,
      "outputs": []
    },
    {
      "cell_type": "code",
      "metadata": {
        "id": "DtFDKuxWGGd2",
        "colab_type": "code",
        "colab": {}
      },
      "source": [
        "f = Faker()"
      ],
      "execution_count": null,
      "outputs": []
    },
    {
      "cell_type": "code",
      "metadata": {
        "id": "9NWeSWEhGRsb",
        "colab_type": "code",
        "colab": {}
      },
      "source": [
        "fake_name_dicts = [{'first_name': f.first_name(),'last_name': f.last_name()} for n in range(1000)]"
      ],
      "execution_count": null,
      "outputs": []
    },
    {
      "cell_type": "code",
      "metadata": {
        "id": "LOXnjAn7GSSq",
        "colab_type": "code",
        "colab": {
          "base_uri": "https://localhost:8080/",
          "height": 187
        },
        "outputId": "fffb3119-7481-4f98-9683-910d087508f0"
      },
      "source": [
        "#inspect first 10 data\n",
        "\n",
        "fake_name_dicts[0:10]"
      ],
      "execution_count": null,
      "outputs": [
        {
          "output_type": "execute_result",
          "data": {
            "text/plain": [
              "[{'first_name': 'Charles', 'last_name': 'Haynes'},\n",
              " {'first_name': 'Steven', 'last_name': 'Stewart'},\n",
              " {'first_name': 'Herbert', 'last_name': 'Cole'},\n",
              " {'first_name': 'Cody', 'last_name': 'Johnson'},\n",
              " {'first_name': 'Henry', 'last_name': 'Richardson'},\n",
              " {'first_name': 'Diane', 'last_name': 'Ruiz'},\n",
              " {'first_name': 'Aaron', 'last_name': 'Jones'},\n",
              " {'first_name': 'Taylor', 'last_name': 'Jackson'},\n",
              " {'first_name': 'Kevin', 'last_name': 'Hill'},\n",
              " {'first_name': 'Jonathan', 'last_name': 'Rivera'}]"
            ]
          },
          "metadata": {
            "tags": []
          },
          "execution_count": 34
        }
      ]
    },
    {
      "cell_type": "code",
      "metadata": {
        "id": "UE1yK8tRHAms",
        "colab_type": "code",
        "colab": {
          "base_uri": "https://localhost:8080/",
          "height": 85
        },
        "outputId": "2c417493-56ab-4e4f-e6d5-37d873ef3874"
      },
      "source": [
        "#find how many Paul's are in this fake data list of dicts\n",
        "for index, n in enumerate(fake_name_dicts):\n",
        "  if n['first_name'].casefold() == 'paul':\n",
        "    print('found: {} {} at index - {}'.format(n['first_name'], n['last_name'], index))"
      ],
      "execution_count": null,
      "outputs": [
        {
          "output_type": "stream",
          "text": [
            "found: Paul Walls at index - 383\n",
            "found: Paul Scott at index - 915\n",
            "found: Paul Payne at index - 916\n",
            "found: Paul Sims at index - 943\n"
          ],
          "name": "stdout"
        }
      ]
    }
  ]
}