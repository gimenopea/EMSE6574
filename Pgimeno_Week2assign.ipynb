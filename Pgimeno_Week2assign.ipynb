{
  "nbformat": 4,
  "nbformat_minor": 0,
  "metadata": {
    "colab": {
      "name": "Pgimeno-Week2assign.ipynb",
      "provenance": [],
      "authorship_tag": "ABX9TyMUlIppsXxVMEsc+LOejGTc",
      "include_colab_link": true
    },
    "kernelspec": {
      "name": "python3",
      "display_name": "Python 3"
    }
  },
  "cells": [
    {
      "cell_type": "markdown",
      "metadata": {
        "id": "view-in-github",
        "colab_type": "text"
      },
      "source": [
        "<a href=\"https://colab.research.google.com/github/gimenopea/EMSE6574/blob/master/Pgimeno_Week2assign.ipynb\" target=\"_parent\"><img src=\"https://colab.research.google.com/assets/colab-badge.svg\" alt=\"Open In Colab\"/></a>"
      ]
    },
    {
      "cell_type": "markdown",
      "metadata": {
        "id": "0yjz8uXpoZLE"
      },
      "source": [
        "** Assignment 1 **\n",
        "\n",
        "Convert the tree class to a graph class.\n",
        "\n",
        "A graph can have as many \"child nodes\" to a parent node as you want (in a graph we don't call them \"child nodes\", they're \"neighbors\")\n",
        "\n",
        "You can have loops -- a node can point back to its parents / grandparents / etc\n",
        "\n",
        "Write a depth first traversal of a graph starting at any random node -- you stop and backtrack when you hit a leaf node, or when you hit a node you've already visited\n",
        "\n",
        "Write a breadth-first traversal of a graph starting at any random node\n",
        "\n",
        "Example = simple social network. Pick a book or a movie, characters are nodes, edges mean \"friends with\""
      ]
    },
    {
      "cell_type": "code",
      "metadata": {
        "id": "e0CeGlJpoNhi"
      },
      "source": [
        "class Node:\n",
        "  def __init__(self,data):\n",
        "    self.data = data\n",
        "    self.neighbors = []\n",
        "    self.node_map = {}\n",
        "  \n",
        "  def add_neighbors(self,*args):\n",
        "    for n in args:\n",
        "      self.neighbors.append(n)\n",
        "    \n",
        "    self.node_map[self.data] = [n.data for n in self.neighbors]\n"
      ],
      "execution_count": null,
      "outputs": []
    },
    {
      "cell_type": "code",
      "metadata": {
        "id": "ewMfRBLuotFa"
      },
      "source": [
        "class Graph:\n",
        "  def __init__(self,*args): #initialize with list of node dictionaries\n",
        "    self.graph = {}\n",
        "    for dict in args:\n",
        "      self.graph.update(dict)"
      ],
      "execution_count": null,
      "outputs": []
    },
    {
      "cell_type": "code",
      "metadata": {
        "id": "Zm05DrT_ot1D"
      },
      "source": [
        "#branches of government nodes (partial list)\n",
        "\n",
        "constitution = Node('constitution')\n",
        "legislative = Node('legislative')\n",
        "executive = Node('executive')\n",
        "judicial = Node('judicial')\n",
        "supreme_court = Node('supreme_court')\n",
        "senate = Node('senate')"
      ],
      "execution_count": null,
      "outputs": []
    },
    {
      "cell_type": "code",
      "metadata": {
        "id": "FwTH_Bh1oxbP"
      },
      "source": [
        "#make the linkages\n",
        "constitution.add_neighbors(legislative,executive,judicial)\n",
        "legislative.add_neighbors(constitution,senate)\n",
        "executive.add_neighbors(constitution)\n",
        "judicial.add_neighbors(constitution,supreme_court)"
      ],
      "execution_count": null,
      "outputs": []
    },
    {
      "cell_type": "code",
      "metadata": {
        "id": "WExKC2_MXscW",
        "colab": {
          "base_uri": "https://localhost:8080/",
          "height": 34
        },
        "outputId": "51c9d5e3-bc71-4e39-b3be-1b63ee43ed6f"
      },
      "source": [
        "#make the final combined graph\n",
        "g = Graph(constitution.node_map,\n",
        "legislative.node_map,\n",
        "executive.node_map,\n",
        "judicial.node_map,\n",
        "supreme_court.node_map,\n",
        "senate.node_map)\n",
        "\n",
        "print(g.graph)"
      ],
      "execution_count": null,
      "outputs": [
        {
          "output_type": "stream",
          "text": [
            "{'constitution': ['legislative', 'executive', 'judicial'], 'legislative': ['constitution', 'senate'], 'executive': ['constitution'], 'judicial': ['constitution', 'supreme_court']}\n"
          ],
          "name": "stdout"
        }
      ]
    },
    {
      "cell_type": "code",
      "metadata": {
        "id": "5Tik_-8b6WOm"
      },
      "source": [
        "def find_path(graph, start, end, path=[]):\n",
        "        path = path + [start]\n",
        "        if start == end:\n",
        "            return path\n",
        "        if start not in graph:\n",
        "            return None\n",
        "        for node in graph[start]:\n",
        "            if node not in path:\n",
        "                newpath = find_path(graph, node, end, path)\n",
        "                if newpath: return newpath\n",
        "        return None"
      ],
      "execution_count": null,
      "outputs": []
    },
    {
      "cell_type": "code",
      "metadata": {
        "id": "YH-rF_m86XIF",
        "colab": {
          "base_uri": "https://localhost:8080/",
          "height": 34
        },
        "outputId": "834b902c-c070-499a-c1df-324ce5ed6f35"
      },
      "source": [
        "print(find_path(g.graph,'constitution','senate'))"
      ],
      "execution_count": null,
      "outputs": [
        {
          "output_type": "stream",
          "text": [
            "['constitution', 'legislative', 'senate']\n"
          ],
          "name": "stdout"
        }
      ]
    }
  ]
}